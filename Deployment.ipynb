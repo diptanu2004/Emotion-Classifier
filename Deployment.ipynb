{
 "cells": [
  {
   "cell_type": "code",
   "execution_count": 1,
   "id": "b275f8bf-a79a-4d8f-82b8-42f74637267a",
   "metadata": {},
   "outputs": [],
   "source": [
    "import streamlit as st\n",
    "import tensorflow as tf\n",
    "import cv2"
   ]
  },
  {
   "cell_type": "code",
   "execution_count": null,
   "id": "92609ea7-e0dc-4855-86f1-aa63babd03f6",
   "metadata": {},
   "outputs": [],
   "source": [
    "\n",
    "\n"
   ]
  },
  {
   "cell_type": "code",
   "execution_count": 2,
   "id": "79a6c06b-d923-4160-9773-9d2cb23f13aa",
   "metadata": {},
   "outputs": [],
   "source": [
    "categories = ['angry', 'disgusted', 'feared', 'happy', 'neutral', 'sad', 'surprised']"
   ]
  },
  {
   "cell_type": "code",
   "execution_count": 3,
   "id": "22edd485-cb7b-48e9-b958-56c156f1a5df",
   "metadata": {},
   "outputs": [],
   "source": [
    "def findFace(pathForImage):\n",
    "    image = cv2.imread(pathForImage)\n",
    "    gray = cv2.cvtColor(image,cv2.COLOR_BGR2GRAY)\n",
    "\n",
    "    haarCascadeFile = \"haarcascade_frontalface_default.xml\"\n",
    "    face = cv2.CascadeClassifier(haarCascadeFile)\n",
    "    faces = face.detectMultiScale(gray)\n",
    "\n",
    "    for (x,y,w,h) in faces:\n",
    "        roiGray = gray[y:y+h, x:x+w]\n",
    "\n",
    "    return roiGray"
   ]
  },
  {
   "cell_type": "code",
   "execution_count": 4,
   "id": "67ca061c-e606-4f91-9ce8-5eafc1a9c7f4",
   "metadata": {},
   "outputs": [],
   "source": [
    "def prepareImageForModel(faceImage):\n",
    "     resized = cv2.resize(faceImage, (48,48), interpolation = cv2.INTER_AREA)\n",
    "     imgResult = np.expand_dims(resized, axis=0)\n",
    "     imgResult = imgResult/255.0\n",
    "     return imgResult"
   ]
  },
  {
   "cell_type": "code",
   "execution_count": 5,
   "id": "9fa918c3-b351-4e7f-a125-58e2e00c70ee",
   "metadata": {},
   "outputs": [
    {
     "name": "stdout",
     "output_type": "stream",
     "text": [
      "Overwriting app.py\n"
     ]
    }
   ],
   "source": [
    "%%writefile app.py\n",
    "@st.cache_resource\n",
    "def load_model():\n",
    "    model = tf.keras.models.load_model('model.hdf5')\n",
    "    return model\n",
    "model = load_model()\n",
    "st.write(\"Emotion Classifier\")\n",
    "file = st.file_uploader(\"Please upload an image of a person\", type=[\"jpg\",\"png\"])if file is None:\n",
    "    st.text(\"Please upload an image file\")\n",
    "else:\n",
    "    image = Image.open(file)\n",
    "    st.image(image, use_column_width = True)\n",
    "    faceImg = findFace(image)\n",
    "    imgForPrediction = prepareImageForModel(faceImg)\n",
    "    predictions = model.predict(imgForPrediction, verbose=1)\n",
    "    string = \"The person in the image is most likely: \" + class_names[np.argmax(predictions)]\n",
    "    st.success(string)"
   ]
  },
  {
   "cell_type": "code",
   "execution_count": 9,
   "id": "db5d9dbf-261e-4eed-a004-590abe5e9521",
   "metadata": {},
   "outputs": [
    {
     "name": "stderr",
     "output_type": "stream",
     "text": [
      "'ngrok' is not recognized as an internal or external command,\n",
      "operable program or batch file.\n"
     ]
    }
   ],
   "source": [
    "!ngrok config add-authtoken 2z3cmnfTD4KYb86B7QUp9CbsrfO_6pf67NTHrMPDN1uy6WZrT"
   ]
  },
  {
   "cell_type": "code",
   "execution_count": 10,
   "id": "3e7729f6-4bd9-4346-acbf-36c53e1c33f6",
   "metadata": {},
   "outputs": [
    {
     "name": "stderr",
     "output_type": "stream",
     "text": [
      "'nohup' is not recognized as an internal or external command,\n",
      "operable program or batch file.\n"
     ]
    }
   ],
   "source": [
    "!nohup streamlit run app.py"
   ]
  },
  {
   "cell_type": "code",
   "execution_count": null,
   "id": "6bb90d04-97f3-49c2-8bef-66a273212147",
   "metadata": {},
   "outputs": [],
   "source": []
  }
 ],
 "metadata": {
  "kernelspec": {
   "display_name": "Python 3 (ipykernel)",
   "language": "python",
   "name": "python3"
  },
  "language_info": {
   "codemirror_mode": {
    "name": "ipython",
    "version": 3
   },
   "file_extension": ".py",
   "mimetype": "text/x-python",
   "name": "python",
   "nbconvert_exporter": "python",
   "pygments_lexer": "ipython3",
   "version": "3.11.9"
  }
 },
 "nbformat": 4,
 "nbformat_minor": 5
}
